{
  "nbformat": 4,
  "nbformat_minor": 0,
  "metadata": {
    "colab": {
      "provenance": []
    },
    "kernelspec": {
      "name": "python3",
      "display_name": "Python 3"
    },
    "language_info": {
      "name": "python"
    }
  },
  "cells": [
    {
      "cell_type": "markdown",
      "source": [
        "Write a program that takes a integer from keyboard and prints a string according the business logic given below\n",
        "\n",
        "1. For each multiple of 3, Print 'Fizz',\n",
        "\n",
        "2. For each multiple of 5, Print Fuzz\n",
        "\n",
        "3. For each multiple of 3 and 5 Print 'Fizz Buzz\n",
        "\n"
      ],
      "metadata": {
        "id": "wNd0cfBF8Ce8"
      }
    },
    {
      "cell_type": "code",
      "execution_count": 1,
      "metadata": {
        "colab": {
          "base_uri": "https://localhost:8080/"
        },
        "id": "j9wrstwh7B8R",
        "outputId": "e445da38-7eaa-4a30-e808-575b1c04be2b"
      },
      "outputs": [
        {
          "output_type": "stream",
          "name": "stdout",
          "text": [
            "enter the number 13\n",
            "Fizz\n",
            "Buzz\n",
            "Fizz\n",
            "Fizz\n",
            "Buzz\n",
            "Fizz\n"
          ]
        }
      ],
      "source": [
        "n = input(\"enter the number \")\n",
        "n = int(n)\n",
        "for i in range(1,n+1):\n",
        "  if i%3==0 and i%5 == 0:\n",
        "      print(\"FizzBuzz\")\n",
        "  elif i%5 == 0:\n",
        "    print(\"Buzz\")\n",
        "  elif i%3 == 0:\n",
        "    print(\"Fizz\")\n",
        "\n"
      ]
    },
    {
      "cell_type": "markdown",
      "source": [],
      "metadata": {
        "id": "93zsBQX99NTa"
      }
    },
    {
      "cell_type": "markdown",
      "source": [
        "Write a program that computes the net amount of a bank account based on a transaction log from console input. The transaction log / sample input is in the format as shown below:\n",
        "\n",
        "Input\n",
        "\n",
        "log_message = D:100 W:10\n",
        "\n",
        "Output\n",
        "\n",
        "90"
      ],
      "metadata": {
        "id": "SIhfCe2h9JJP"
      }
    },
    {
      "cell_type": "code",
      "source": [
        "n = input(\"enter the log message \")\n",
        "amount = 0\n",
        "k = n.split()\n",
        "for i in range(len(k)):\n",
        "\tk1 = k[i].split(':')\n",
        "\tif k1[0].lower() == 'd':\n",
        "\t\tamount = amount+int(k1[1])\n",
        "\tif k1[0].lower() == 'w':\n",
        "\t\tamount = amount-int(k1[1])\n",
        "\n",
        "print(amount)\n"
      ],
      "metadata": {
        "colab": {
          "base_uri": "https://localhost:8080/"
        },
        "id": "RTm5yPx88vC-",
        "outputId": "a6756e80-b970-499b-8645-72ad845f27bd"
      },
      "execution_count": 2,
      "outputs": [
        {
          "output_type": "stream",
          "name": "stdout",
          "text": [
            "enter the log message D:100 W:20\n",
            "80\n"
          ]
        }
      ]
    },
    {
      "cell_type": "code",
      "source": [],
      "metadata": {
        "id": "2rDTzPbT9ZcS"
      },
      "execution_count": null,
      "outputs": []
    },
    {
      "cell_type": "markdown",
      "source": [
        "Write a program that prompts the user to input number of calls and calculate the monthly telephone bills as per the following rule:\n",
        "\n",
        "● Minimum Rs. 200 for up to 100 calls.\n",
        "\n",
        "● Plus Rs. 0.60 per call for next 50 calls.\n",
        "\n",
        "● Plus Rs. 0.50 per call for next 50 calls.\n",
        "\n",
        "● Plus Rs. 0.40 per call for any call beyond 200 calls.\n",
        "\n"
      ],
      "metadata": {
        "id": "KLDhcpyZ9pm_"
      }
    },
    {
      "cell_type": "code",
      "source": [
        "calls=int(input(\"enter number of calls \"))\n",
        "if calls<=100:\n",
        "    print(\"bill amount - \",200)\n",
        "elif calls>100 and calls<=150:\n",
        "    a = 200+(calls-100)*0.60\n",
        "    print(\"bill amount - \",a)\n",
        "elif calls>150 and calls<=200:\n",
        "    a = 200+(calls-100)*0.60+(calls-150)*0.50\n",
        "    print(\"bill amount - \",a)\n",
        "elif calls>200:\n",
        "    a = 200+(calls-100)*0.60+(calls-150)*0.50+(calls-200)*0.40\n",
        "    print(\"bill amount - \",a)\n"
      ],
      "metadata": {
        "colab": {
          "base_uri": "https://localhost:8080/"
        },
        "id": "b7OIdSYq9vXS",
        "outputId": "dda03594-4811-47f3-fc53-c196b79a1ab1"
      },
      "execution_count": 3,
      "outputs": [
        {
          "output_type": "stream",
          "name": "stdout",
          "text": [
            "enter number of calls 66\n",
            "bill amount -  200\n"
          ]
        }
      ]
    },
    {
      "cell_type": "code",
      "source": [],
      "metadata": {
        "id": "w33fzndj9049"
      },
      "execution_count": null,
      "outputs": []
    }
  ]
}