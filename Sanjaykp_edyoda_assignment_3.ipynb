{
  "nbformat": 4,
  "nbformat_minor": 0,
  "metadata": {
    "colab": {
      "provenance": []
    },
    "kernelspec": {
      "name": "python3",
      "display_name": "Python 3"
    },
    "language_info": {
      "name": "python"
    }
  },
  "cells": [
    {
      "cell_type": "code",
      "execution_count": null,
      "metadata": {
        "id": "bbgo6p2J8D7T"
      },
      "outputs": [],
      "source": []
    },
    {
      "cell_type": "markdown",
      "source": [
        "Write a Python function to sum all the numbers in a list.\n",
        "\n",
        "Sample List : (8, 2, 3, 0, 7)\n",
        "\n",
        "Expected Output : 20"
      ],
      "metadata": {
        "id": "RZabR4KC9CG2"
      }
    },
    {
      "cell_type": "code",
      "source": [
        "def ads(li):\n",
        "\tfi = sum(li)\n",
        "\tprint(fi)\n",
        " \n",
        "li = [8,2,3,0,7]\n",
        "ads(li)"
      ],
      "metadata": {
        "colab": {
          "base_uri": "https://localhost:8080/"
        },
        "id": "3udwKS3H-LFl",
        "outputId": "a779c123-96b9-4cea-a713-290b13af44ec"
      },
      "execution_count": 1,
      "outputs": [
        {
          "output_type": "stream",
          "name": "stdout",
          "text": [
            "20\n"
          ]
        }
      ]
    },
    {
      "cell_type": "code",
      "source": [],
      "metadata": {
        "id": "tioIXLWu-gwJ"
      },
      "execution_count": null,
      "outputs": []
    },
    {
      "cell_type": "markdown",
      "source": [
        "Write a Python program to reverse a string.\n",
        "\n",
        "Sample String : \"1234abcd\"\n",
        "\n",
        "Expected Output : \"dcba4321\""
      ],
      "metadata": {
        "id": "lpbVKb-H_OOI"
      }
    },
    {
      "cell_type": "code",
      "source": [
        "def rev(s):\n",
        "\tprint(s[::-1])\n",
        " \n",
        "s =  \"1234abcd\"\n",
        "rev(s)"
      ],
      "metadata": {
        "colab": {
          "base_uri": "https://localhost:8080/"
        },
        "id": "KCTTQ9J8_TYK",
        "outputId": "21dfbd47-6439-4344-fcbb-1291f4f909fb"
      },
      "execution_count": 2,
      "outputs": [
        {
          "output_type": "stream",
          "name": "stdout",
          "text": [
            "dcba4321\n"
          ]
        }
      ]
    },
    {
      "cell_type": "code",
      "source": [],
      "metadata": {
        "id": "ShkJ77q-_tLh"
      },
      "execution_count": null,
      "outputs": []
    },
    {
      "cell_type": "markdown",
      "source": [
        "Write a Python function that accepts a string and calculate the number of upper case letters and lower case letters.\n",
        "\n",
        "Sample String : 'The quick Brow Fox'\n",
        "\n",
        "Expected Output :\n",
        "\n",
        "No. of Upper case characters : 3\n",
        "\n",
        "No. of Lower case Characters : 12"
      ],
      "metadata": {
        "id": "_XOiFaPEAqZD"
      }
    },
    {
      "cell_type": "code",
      "source": [
        "def up_low(s):\n",
        "\tupper = 0\n",
        "\tlower = 0\n",
        "\tfor i in s:\n",
        "\t\tif i.isupper():\n",
        "\t\t\tupper += 1\n",
        "\t\telif i.islower():\n",
        "\t\t\tlower += 1\n",
        "\t\telse:\n",
        "\t\t\tpass\n",
        "\tprint(\"No of letters with upper case \"+str(upper))\n",
        "\tprint(\"No of letters with lower case \"+str(lower))\n",
        " \n",
        "s = 'The quick Brow Fox'\n",
        "up_low(s)"
      ],
      "metadata": {
        "colab": {
          "base_uri": "https://localhost:8080/"
        },
        "id": "T5NdAKcbAsSw",
        "outputId": "f2c666af-467e-4e55-a2ba-b874e3eb9642"
      },
      "execution_count": 6,
      "outputs": [
        {
          "output_type": "stream",
          "name": "stdout",
          "text": [
            "No of letters with upper case 3\n",
            "No of letters with lower case 12\n"
          ]
        }
      ]
    },
    {
      "cell_type": "code",
      "source": [],
      "metadata": {
        "id": "HAQO-gOoA63Y"
      },
      "execution_count": null,
      "outputs": []
    }
  ]
}