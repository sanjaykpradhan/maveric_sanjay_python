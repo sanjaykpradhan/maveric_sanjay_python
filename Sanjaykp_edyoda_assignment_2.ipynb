{
  "nbformat": 4,
  "nbformat_minor": 0,
  "metadata": {
    "colab": {
      "provenance": []
    },
    "kernelspec": {
      "name": "python3",
      "display_name": "Python 3"
    },
    "language_info": {
      "name": "python"
    }
  },
  "cells": [
    {
      "cell_type": "markdown",
      "source": [
        "Given a list of numbers\n",
        "\n",
        "filenames = ['view.jpg', 'bear.jpg', 'ball.png']\n",
        "\n",
        "Write a program Add the file 'phone.jpg' to this list at the beginning. Then delete the file 'ball.png'. In response, print the filenames list to the console.\n",
        "\n",
        "\n",
        "\n",
        "Expected Output\n",
        "\n",
        "['phone.jpg', 'view.jpg', 'bear.jpg']"
      ],
      "metadata": {
        "id": "Fhqo4LPG-KtM"
      }
    },
    {
      "cell_type": "code",
      "execution_count": 1,
      "metadata": {
        "colab": {
          "base_uri": "https://localhost:8080/"
        },
        "id": "bKQ4CTn997fi",
        "outputId": "23f67808-edc8-4d91-9b2e-8ff223338a5a"
      },
      "outputs": [
        {
          "output_type": "stream",
          "name": "stdout",
          "text": [
            "['phone.jpg', 'view.jpg', 'bear.jpg']\n"
          ]
        }
      ],
      "source": [
        "file = ['view.jpg','bear.jpg','ball.png']\n",
        "file.insert(0,'phone.jpg')\n",
        "file.pop()\n",
        "print(file)\n"
      ]
    },
    {
      "cell_type": "markdown",
      "source": [
        "L = [1,2,3,4,5,6,7,8,9,10]\n",
        "\n",
        "Write a program to find the maximum,minimum and average element in a given list without using m\n",
        "\n"
      ],
      "metadata": {
        "id": "VOcoMOCP-gu6"
      }
    },
    {
      "cell_type": "code",
      "source": [
        "L = [1,2,3,4,5,6,7,8,9,10]\n",
        "mi = 0\n",
        "mx = 0\n",
        "sm = 0\n",
        "for i in L:\n",
        "\tif i>=mx:\n",
        "\t\tmx=i\n",
        "\tif i<=mi:\n",
        "\t\tmi=i\n",
        "\tsm += i\n",
        "\n",
        "print (\"minimum value is \" ,{mi})\n",
        "print (\"maximum value is \" ,{mx})\n",
        "print (\"average  value is \" ,{sm/len(L)})\n"
      ],
      "metadata": {
        "colab": {
          "base_uri": "https://localhost:8080/"
        },
        "id": "nroBrvVV-6h4",
        "outputId": "3cbc9e78-9f0d-46ef-f3d3-b37412c1450b"
      },
      "execution_count": 2,
      "outputs": [
        {
          "output_type": "stream",
          "name": "stdout",
          "text": [
            "minimum value is  {0}\n",
            "maximum value is  {10}\n",
            "average  value is  {5.5}\n"
          ]
        }
      ]
    },
    {
      "cell_type": "markdown",
      "source": [
        "Given a list\n",
        "\n",
        "L : [1,1,1,1,2,2,3,3,3,3,4,5]\n",
        "\n",
        "Write a program to print only unique elements\n",
        "\n",
        "Note : Don't convert List to Set\n",
        "\n",
        "\n",
        "\n",
        "Expected Output\n",
        "\n",
        "Unique List : [1, 2, 3, 4, 5]"
      ],
      "metadata": {
        "id": "rdLWzUKQ-vfC"
      }
    },
    {
      "cell_type": "code",
      "source": [
        "L = [1,1,1,1,2,2,3,3,3,3,4,5]\n",
        "L1 = []\n",
        "[L1.append(i) for i in L if i not in L1]\n",
        "print(L1)\n"
      ],
      "metadata": {
        "colab": {
          "base_uri": "https://localhost:8080/"
        },
        "id": "Rgr14Tg1-P2Y",
        "outputId": "d929a3ee-9c76-4617-cde5-5809d521c96b"
      },
      "execution_count": 3,
      "outputs": [
        {
          "output_type": "stream",
          "name": "stdout",
          "text": [
            "[1, 2, 3, 4, 5]\n"
          ]
        }
      ]
    },
    {
      "cell_type": "markdown",
      "source": [
        "Given a list\n",
        "\n",
        "L = [1,2,3,4, [4,3] ]\n",
        "\n",
        "Check if the given number exist in the inner list"
      ],
      "metadata": {
        "id": "FlDuHE1v_Gsb"
      }
    },
    {
      "cell_type": "code",
      "source": [
        "n = int(input(\"enter the number \"))\n",
        "L = [1,2,3,4, [4,3] ]\n",
        "for i in L[-1]:\n",
        "    if i == n:\n",
        "        print(\"number exists\")\n"
      ],
      "metadata": {
        "colab": {
          "base_uri": "https://localhost:8080/"
        },
        "id": "QX3pxEcz_A-5",
        "outputId": "5742ccf4-d338-4513-c776-bfd7018ca436"
      },
      "execution_count": 4,
      "outputs": [
        {
          "output_type": "stream",
          "name": "stdout",
          "text": [
            "enter the number 4\n",
            "number exists\n"
          ]
        }
      ]
    },
    {
      "cell_type": "markdown",
      "source": [
        "Given a list of lists\n",
        "\n",
        "numbers_nested = [[1,-1,2],[0,-5,3,5,-2],[1,2,1,0,-2,-3]]\n",
        "\n",
        "Write a program to grab only positive numbers in each nested list and put that in a new list"
      ],
      "metadata": {
        "id": "0L2Z-QSZ_V-N"
      }
    },
    {
      "cell_type": "code",
      "source": [
        "n_l = [[1,-1,2],[0,-5,3,5,-2],[1,2,1,0,-2,-3]]\n",
        "kk = [k for i in n_l for k in i if k>0]\n",
        "print(kk)\n"
      ],
      "metadata": {
        "colab": {
          "base_uri": "https://localhost:8080/"
        },
        "id": "C2QL_d_u_Mth",
        "outputId": "4e40af1f-de59-41b3-bd59-9abae3bc7005"
      },
      "execution_count": 5,
      "outputs": [
        {
          "output_type": "stream",
          "name": "stdout",
          "text": [
            "[1, 2, 3, 5, 1, 2, 1]\n"
          ]
        }
      ]
    },
    {
      "cell_type": "markdown",
      "source": [
        "Given a list of lists\n",
        "\n",
        "L = [ [1,2,3] , [ 4,5,6,3 ], [-1,-2,-10,5,8] ]\n",
        "\n",
        "\n",
        "\n",
        "Write a program to to print the average sum of value from each inner list and print the sum of each average\n",
        "\n",
        "Expected Output\n",
        "\n",
        "6/3 + 18/4 + 0 ⇒ 2 + 4.5 ⇒ 6.5"
      ],
      "metadata": {
        "id": "PNHCgwjm_hUn"
      }
    },
    {
      "cell_type": "code",
      "source": [
        "L = [ [1,2,3] , [ 4,5,6,3 ], [-1,-2,-10,5,8] ]\n",
        "sm = 0\n",
        "for i in L:\n",
        "\tk1 = 0\n",
        "\tfor k in i:\n",
        "\t\tk1+=k\n",
        "\tsm += k1/len(i)\n",
        "    \n",
        "print(sm)\n"
      ],
      "metadata": {
        "colab": {
          "base_uri": "https://localhost:8080/"
        },
        "id": "60OB_r6Z_byZ",
        "outputId": "a6d920b1-5b53-4dbc-cefe-eb54da644c07"
      },
      "execution_count": 6,
      "outputs": [
        {
          "output_type": "stream",
          "name": "stdout",
          "text": [
            "6.5\n"
          ]
        }
      ]
    },
    {
      "cell_type": "code",
      "source": [],
      "metadata": {
        "id": "Fa61wL7s_nJI"
      },
      "execution_count": null,
      "outputs": []
    }
  ]
}